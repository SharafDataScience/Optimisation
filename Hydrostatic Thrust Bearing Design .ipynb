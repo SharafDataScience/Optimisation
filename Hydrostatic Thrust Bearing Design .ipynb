{
 "cells": [
  {
   "cell_type": "markdown",
   "id": "368fb41f",
   "metadata": {},
   "source": [
    "# (2024) Optimisation\n",
    "# Abdullah Sharaf "
   ]
  },
  {
   "cell_type": "markdown",
   "id": "c3f170f7",
   "metadata": {},
   "source": [
    "<h2 style=\"color:blue;\">Implement all the functions f(x) and gi(x); ∀i ∈ [1, 7] independently, where each function takes at least a Numpy array x. Each function should have an independent counter\n",
    "that represents how many times a respective function has been called (or in other words evaluated).\n",
    "Problem implementation</h2>"
   ]
  },
  {
   "cell_type": "code",
   "execution_count": 27,
   "id": "e0c186a6",
   "metadata": {},
   "outputs": [],
   "source": [
    "# libriries definations\n",
    "import numpy as np\n",
    "import matplotlib.pyplot as plt\n",
    "import seaborn as sns\n",
    "from scipy.stats import ttest_rel"
   ]
  },
  {
   "cell_type": "code",
   "execution_count": 28,
   "id": "c05b8e2b",
   "metadata": {
    "scrolled": true
   },
   "outputs": [],
   "source": [
    "# vairabiles to save times of function calls\n",
    "f_call_count      = 0\n",
    "g1_call_count     = 0\n",
    "g2_call_count     = 0\n",
    "g3_call_count     = 0\n",
    "g4_call_count     = 0\n",
    "g5_call_count     = 0\n",
    "g6_call_count     = 0\n",
    "g7_call_count     = 0\n",
    "gp_call_count     = 0\n",
    "gdelat_call_count = 0\n",
    "gef_call_count    = 0\n",
    "gh_call_count     = 0\n",
    "gp0_call_count    = 0\n",
    "gw_call_count     = 0\n",
    "\n",
    "# Define the decision variables\n",
    "x = np.array([4.19, 11.57, 6.69, 10.65])\n",
    "\n",
    "def P(x):\n",
    "    global gp_call_count\n",
    "    gp_call_count += 1\n",
    "    value = ((np.log10(np.log10(8.122 * x[3] + 0.8)) - 10.04) / -3.55)\n",
    "    return value \n",
    "    \n",
    "def delta_T(x):\n",
    "    global gdelat_call_count\n",
    "    gdelat_call_count += 1\n",
    "    value = 2 * (10**P(x) - 560)\n",
    "    return value\n",
    "\n",
    "def Ef(x):\n",
    "    global gef_call_count\n",
    "    gef_call_count += 1\n",
    "    value = 143.308 * delta_T(x) * x[0]\n",
    "    return value\n",
    "\n",
    "def h(x):\n",
    "    global gh_call_count\n",
    "    gh_call_count += 1\n",
    "    value = (1500 * np.pi / 60)**2 * (2 * 10**(-6) * np.pi * x[3] / Ef(x)) * ((x[2]**4 / 4) - (x[1]**4 / 4))\n",
    "    return value\n",
    "\n",
    "def P0(x):\n",
    "    global gp0_call_count\n",
    "    gp0_call_count += 1\n",
    "    value = (((6 * 10**(-6) * x[3] * x[0]) / (np.pi * h(x)**3)) * np.log(x[2] / x[1]))\n",
    "    return value\n",
    "\n",
    "def W(x):\n",
    "    global gw_call_count\n",
    "    gw_call_count += 1\n",
    "    value = (np.pi * P0(x) / 2) * ((x[2]**2 - x[1]**2) / (np.log(x[2] / x[1])))\n",
    "    return value\n",
    "\n",
    "# Define of function f(x)\n",
    "def f(x):\n",
    "    global f_call_count\n",
    "    f_call_count += 1\n",
    "    return (P0(x) * x[0] / 0.7) + Ef(x)\n",
    "# Define of function g1(x)\n",
    "def g1(x):\n",
    "    global g1_call_count\n",
    "    g1_call_count += 1\n",
    "    return 101000 - W(x)\n",
    "# Define of function g2(x)\n",
    "def g2(x):\n",
    "    global g2_call_count\n",
    "    g2_call_count += 1\n",
    "    return P0(x) - 1000\n",
    "# Define constraint function g3(x)\n",
    "def g3(x):\n",
    "    global g3_call_count\n",
    "    g3_call_count += 1\n",
    "\n",
    "    return delta_T(x) - 50\n",
    "# Define constraint function g4(x)\n",
    "def g4(x):\n",
    "    global g4_call_count\n",
    "    g4_call_count += 1\n",
    "    return 0.001 - h(x)\n",
    "# Define constraint function g5(x)\n",
    "def g5(x):\n",
    "    global g5_call_count\n",
    "    g5_call_count += 1\n",
    "\n",
    "    return x[1] - x[2]\n",
    "# Define constraint function g6(x)\n",
    "def g6(x):\n",
    "    global g6_call_count\n",
    "    g6_call_count += 1\n",
    "    return ((0.0307 * x[0]) / (772.8 * np.pi *P0(x)*h(x)* x[2])) - 0.001\n",
    "# Define constraint function g7(x)\n",
    "def g7(x):\n",
    "    global g7_call_count\n",
    "    g7_call_count += 1\n",
    "    return (W(x) / (np.pi * (x[2] ** 2 - x[1] ** 2))) - 5000"
   ]
  },
  {
   "cell_type": "code",
   "execution_count": 29,
   "id": "9e33ff24",
   "metadata": {
    "scrolled": true
   },
   "outputs": [
    {
     "name": "stdout",
     "output_type": "stream",
     "text": [
      "f(x) : -1784.0773507231927\n",
      "g1(x):  101000.01528759542\n",
      "g2(x): -1000.0000598304209\n",
      "g3(x): -52.97118117373543\n",
      "g4(x): -0.9196377239881502\n",
      "g5(x):  4.88\n",
      "g6(x): -0.14477999681964232\n",
      "g7(x): -4999.999945390436\n"
     ]
    }
   ],
   "source": [
    "# print values of functions\n",
    "print(f\"f(x) :\",f(x))\n",
    "print(f\"g1(x):  {g1(x)}\")\n",
    "print(f\"g2(x):\",g2(x))\n",
    "print(f\"g3(x):\",g3(x))\n",
    "print(f\"g4(x):\",g4(x))\n",
    "print(f\"g5(x):  {g5(x)}\")\n",
    "print(f\"g6(x):\",g6(x))\n",
    "print(f\"g7(x):\",g7(x))"
   ]
  },
  {
   "cell_type": "code",
   "execution_count": 30,
   "id": "b98b8ca2",
   "metadata": {},
   "outputs": [
    {
     "name": "stdout",
     "output_type": "stream",
     "text": [
      "the f  call count is 1\n",
      "the g1 call count is 1\n",
      "the g2 call count is 1\n",
      "the g3 call count is 1\n",
      "the g4 call count is 1\n",
      "the g5 call count is 1\n",
      "the g6 call count is 1\n",
      "the g7 call count is 1\n",
      "the p0 call count is 5\n",
      "the EF call count is 8\n",
      "the dt call count is 9\n",
      "the p  call count is 9\n",
      "the W  call count is 2\n",
      "the h  call count is 7\n"
     ]
    }
   ],
   "source": [
    "# Print call counts\n",
    "print(f'the f  call count is {f_call_count:.0f}')\n",
    "print(f'the g1 call count is {g1_call_count:.0f}')\n",
    "print(f'the g2 call count is {g2_call_count:.0f}')\n",
    "print(f'the g3 call count is {g3_call_count:.0f}')\n",
    "print(f'the g4 call count is {g4_call_count:.0f}')\n",
    "print(f'the g5 call count is {g5_call_count:.0f}')\n",
    "print(f'the g6 call count is {g6_call_count:.0f}')\n",
    "print(f'the g7 call count is {g7_call_count:.0f}')\n",
    "print(f'the p0 call count is {gp0_call_count:.0f}')\n",
    "print(f'the EF call count is {gef_call_count:.0f}')\n",
    "print(f'the dt call count is {gdelat_call_count:.0f}')\n",
    "print(f'the p  call count is {gp_call_count:.0f}')\n",
    "print(f'the W  call count is {gw_call_count:.0f}')\n",
    "print(f'the h  call count is {gh_call_count:.0f}')\n",
    "\n"
   ]
  },
  {
   "cell_type": "markdown",
   "id": "e393fad3",
   "metadata": {},
   "source": [
    "<h2 style=\"color:blue;\"> Implement the Random Search (RS) method discussed in the lectures that can use the\n",
    "functions defined above and return an approximation of the optimum.</h2>"
   ]
  },
  {
   "cell_type": "code",
   "execution_count": 31,
   "id": "de1a6471",
   "metadata": {},
   "outputs": [],
   "source": [
    "# Define the decision variables and their search space\n",
    "x_min = np.array([1, 1, 1, 1])\n",
    "x_max = np.array([16, 16, 16, 16])\n",
    "# Number of iterations for Random Search\n",
    "num_iterations = 10000\n",
    "# Constraint functions \n",
    "constraint_functions = [g1,g2,g3,g4,g5,g6,g7] # constrained <= 0 \n"
   ]
  },
  {
   "cell_type": "markdown",
   "id": "28ef9f5e",
   "metadata": {},
   "source": [
    "<h3>2-1: Random Search (RS) method without appling panelty technique</h3>"
   ]
  },
  {
   "cell_type": "code",
   "execution_count": 33,
   "id": "37bd7466",
   "metadata": {},
   "outputs": [
    {
     "name": "stdout",
     "output_type": "stream",
     "text": [
      "Random Search :\n",
      "Best solution canditates x = [12.61797282  1.51467733  1.52301013 15.87422765]\n",
      "Optimum value : -978124061094663.9\n"
     ]
    }
   ],
   "source": [
    "randomSeed=0\n",
    "# Random Search function\n",
    "def random_search(function, num_iterations,randomSeed):\n",
    "    best_solution = None\n",
    "    best_value = float('inf')   #represents positive infinity grater than any infint value.\n",
    "    \n",
    "    for i in range(num_iterations):\n",
    "        seed = randomSeed+i\n",
    "        np.random.seed(seed) # Set the random seed for reproducibility\n",
    "        # Generate a random candidate solution within the search space\n",
    "        candidate = np.random.uniform(x_min, x_max)\n",
    "    \n",
    "        # Evaluate the candidate solution\n",
    "        value = function(candidate)\n",
    "        \n",
    "        # Update the best solution if the candidate is better\n",
    "        if value < best_value:\n",
    "            # best_seed = seed\n",
    "            best_solution = candidate\n",
    "            best_value = value\n",
    "\n",
    "    return best_solution, best_value \n",
    "\n",
    "# Perform Random Search\n",
    "best_solution, best_value = random_search(f, num_iterations,randomSeed)\n",
    "\n",
    "print(\"Random Search :\")\n",
    "print(\"Best solution canditates x =\", best_solution)\n",
    "\n",
    "print(\"Optimum value :\", best_value)\n"
   ]
  },
  {
   "cell_type": "markdown",
   "id": "3dfe2e41",
   "metadata": {},
   "source": [
    "<h3>2-2: Random Search (RS) method after appling penalty technique.</h3>"
   ]
  },
  {
   "cell_type": "code",
   "execution_count": 35,
   "id": "8d5a4f28",
   "metadata": {},
   "outputs": [
    {
     "name": "stdout",
     "output_type": "stream",
     "text": [
      "Optimal Solution: [12.72534602  1.32435555  1.33529636  4.5094127 ]\n",
      "Optimal Value: 1.0205197204613523e+39\n"
     ]
    }
   ],
   "source": [
    "random_seed=0\n",
    "# Define the penalty factor for constraint violation\n",
    "penalty_factor=1000\n",
    "\n",
    "# Random Search with Penalty Method\n",
    "def random_search_with_penalty(objective_function, constraint_functions, max_iterations, penalty_factor,randomSeed):\n",
    "    best_solution = None\n",
    "    best_value = float('-inf')\n",
    "\n",
    "    for i in range(max_iterations):\n",
    "        np.random.seed(randomSeed+i)\n",
    "        candidate_solution = np.random.uniform(x_min, x_max)\n",
    "        #print(candidate_solution)\n",
    "        # Evaluate the constraint functions\n",
    "        constraints = np.array([constraint(candidate_solution) for constraint in constraint_functions])\n",
    "     \n",
    "        # If constraints are satisfied, evaluate the objective function\n",
    "        objective_value = objective_function(candidate_solution)\n",
    "       \n",
    "        # Introduce penalty for constraint violation\n",
    "        penalty_term = penalty_factor * np.sum(np.maximum(0, constraints) ** 2)\n",
    "    \n",
    "        # Total objective value with penalty\n",
    "        total_value = objective_value + penalty_term\n",
    "        \n",
    "\n",
    "        if total_value > best_value:\n",
    "            best_value = total_value\n",
    "            best_solution = candidate_solution\n",
    "\n",
    "    return best_solution, best_value\n",
    "\n",
    "\n",
    "# Run Random Search with Penalty\n",
    "optimal_solution, optimal_value = random_search_with_penalty(f,constraint_functions,num_iterations, penalty_factor,random_seed)\n",
    "\n",
    "# Print results\n",
    "print(\"Optimal Solution:\", optimal_solution)\n",
    "print(\"Optimal Value:\", optimal_value)"
   ]
  },
  {
   "cell_type": "markdown",
   "id": "d4e911ec",
   "metadata": {},
   "source": [
    "<p style=\"color:red;font-weight:bold;font-family:Calibri;font-size:35\"> Note : A static penalty method uses a fixed penalty parameter (penalty_parameter) throughout the optimization process.   </p>"
   ]
  },
  {
   "cell_type": "markdown",
   "id": "aabb9011",
   "metadata": {},
   "source": [
    "<h1 style=\"color:blue;\">Implement the simulated annealing (SA) method that can use the\n",
    "functions defined above and return an approximation of the optimum\n",
    "solution x∗ </h1>"
   ]
  },
  {
   "cell_type": "markdown",
   "id": "f3437097",
   "metadata": {},
   "source": [
    "<h1>Simulated Annealing (SA) method without appling panelty technique</h1>"
   ]
  },
  {
   "cell_type": "code",
   "execution_count": 37,
   "id": "505576e6",
   "metadata": {},
   "outputs": [
    {
     "name": "stderr",
     "output_type": "stream",
     "text": [
      "C:\\Users\\HP B.DESKTOP-20RBB06\\AppData\\Local\\Temp\\ipykernel_7616\\2162033751.py:32: RuntimeWarning: overflow encountered in exp\n",
      "  if delta_y <= 0 or np.random.rand() < np.exp(delta_y / temperature):\n",
      "C:\\Users\\HP B.DESKTOP-20RBB06\\AppData\\Local\\Temp\\ipykernel_7616\\951468068.py:47: RuntimeWarning: divide by zero encountered in scalar divide\n",
      "  value = (((6 * 10**(-6) * x[3] * x[0]) / (np.pi * h(x)**3)) * np.log(x[2] / x[1]))\n",
      "C:\\Users\\HP B.DESKTOP-20RBB06\\AppData\\Local\\Temp\\ipykernel_7616\\951468068.py:47: RuntimeWarning: invalid value encountered in scalar multiply\n",
      "  value = (((6 * 10**(-6) * x[3] * x[0]) / (np.pi * h(x)**3)) * np.log(x[2] / x[1]))\n"
     ]
    },
    {
     "name": "stdout",
     "output_type": "stream",
     "text": [
      "Best solution found by Simulated Annealing x = [13.85284158  1.29711287  1.31326862 14.70070037]\n",
      "Optimum value found by Simulated Annealing:     -1279670611701164.0\n"
     ]
    }
   ],
   "source": [
    "randomSeed=9363 # intilaise the seed from otimal one found in random search\n",
    "# Initial temperature and cooling rate for simulated annealing\n",
    "initial_temperature = 100\n",
    "cooling_rate = 0.05\n",
    "\n",
    "\n",
    "\n",
    "# Number of iterations for each temperature\n",
    "iterations_per_temperature = 100\n",
    "def generate_neighbor_gaussian(current_solution, min_values, max_values, std_dev=0.9):\n",
    "    perturbation = np.random.normal(loc=0, scale=std_dev, size=len(current_solution))\n",
    "    new_solution = np.clip(current_solution + perturbation, min_values, max_values)\n",
    "    return new_solution\n",
    "\n",
    "# Simulated Annealing function with generate_neighbor_gaussian\n",
    "def simulated_annealing(objective_function, min_values, max_values, initial_temperature, cooling_rate, iterations_per_temperature, seedRandom):\n",
    "    np.random.seed(seedRandom)\n",
    "    current_solution = np.random.uniform(min_values, max_values)\n",
    "    current_value = objective_function(current_solution)\n",
    "    best_solution = current_solution\n",
    "    best_value = current_value\n",
    "    temperature = initial_temperature\n",
    "\n",
    "    while temperature > 1e-5:\n",
    "        for i in range(iterations_per_temperature):\n",
    "            neighbor_solution = generate_neighbor_gaussian(current_solution, min_values, max_values)\n",
    "            neighbor_value = objective_function(neighbor_solution)\n",
    "\n",
    "            delta_y = neighbor_value - current_value\n",
    "            \n",
    "            # Accept the neighbor if it's better or with a certain probability\n",
    "            if delta_y <= 0 or np.random.rand() < np.exp(delta_y / temperature):\n",
    "                current_solution = neighbor_solution\n",
    "                current_value = neighbor_value\n",
    "\n",
    "                # Update the best solution if the current solution is better\n",
    "                if current_value < best_value:\n",
    "                    best_solution = current_solution\n",
    "                    best_value = current_value\n",
    "\n",
    "        # Cool down the temperature\n",
    "        temperature =  temperature * (1 - cooling_rate)\n",
    "\n",
    "    return best_solution, best_value\n",
    "\n",
    "# Perform Simulated Annealing with generate_neighbor_gaussian\n",
    "best_solution_sa, best_value_sa = simulated_annealing(f, x_min, x_max, initial_temperature, cooling_rate, iterations_per_temperature,randomSeed)\n",
    "\n",
    "# Print the results\n",
    "print(\"Best solution found by Simulated Annealing x =\", best_solution_sa)\n",
    "print(\"Optimum value found by Simulated Annealing:    \", best_value_sa)"
   ]
  },
  {
   "cell_type": "markdown",
   "id": "e1705e62",
   "metadata": {},
   "source": [
    "<h3>apply penalty method for SA </h3>"
   ]
  },
  {
   "cell_type": "code",
   "execution_count": null,
   "id": "cf8b6af4",
   "metadata": {},
   "outputs": [],
   "source": []
  },
  {
   "cell_type": "code",
   "execution_count": null,
   "id": "5111eca5",
   "metadata": {},
   "outputs": [],
   "source": []
  },
  {
   "cell_type": "code",
   "execution_count": 39,
   "id": "844eaa46",
   "metadata": {},
   "outputs": [
    {
     "name": "stderr",
     "output_type": "stream",
     "text": [
      "C:\\Users\\HP B.DESKTOP-20RBB06\\AppData\\Local\\Temp\\ipykernel_7616\\3998092012.py:23: RuntimeWarning: overflow encountered in exp\n",
      "  if delta_y <= 0 or np.random.rand() < np.exp(delta_y / temperature):\n",
      "C:\\Users\\HP B.DESKTOP-20RBB06\\AppData\\Local\\Temp\\ipykernel_7616\\951468068.py:47: RuntimeWarning: divide by zero encountered in scalar divide\n",
      "  value = (((6 * 10**(-6) * x[3] * x[0]) / (np.pi * h(x)**3)) * np.log(x[2] / x[1]))\n",
      "C:\\Users\\HP B.DESKTOP-20RBB06\\AppData\\Local\\Temp\\ipykernel_7616\\951468068.py:47: RuntimeWarning: invalid value encountered in scalar multiply\n",
      "  value = (((6 * 10**(-6) * x[3] * x[0]) / (np.pi * h(x)**3)) * np.log(x[2] / x[1]))\n",
      "C:\\Users\\HP B.DESKTOP-20RBB06\\AppData\\Local\\Temp\\ipykernel_7616\\951468068.py:53: RuntimeWarning: invalid value encountered in scalar divide\n",
      "  value = (np.pi * P0(x) / 2) * ((x[2]**2 - x[1]**2) / (np.log(x[2] / x[1])))\n"
     ]
    },
    {
     "name": "stdout",
     "output_type": "stream",
     "text": [
      "Best solution found by Simulated Annealing with penalty x = [15.08495066  1.0266764   1.         14.1701024 ]\n",
      "Optimum value found by Simulated Annealing with penalty:     -7166730847399778.0\n"
     ]
    }
   ],
   "source": [
    "randomSeed=9363 # intilaise the seed from otimal one found in random search\n",
    "\n",
    "def simulated_annealing_penalty(objective_function, constraint_functions, min_values, max_values, initial_temperature, cooling_rate, iterations_per_temperature, seedRandom, penalty_factor=1000):\n",
    "    np.random.seed(seedRandom)\n",
    "    current_solution = np.random.uniform(min_values, max_values)\n",
    "    current_value = objective_function(current_solution)\n",
    "    best_solution = current_solution\n",
    "    best_value = current_value\n",
    "    temperature = initial_temperature\n",
    "\n",
    "    while temperature > 1e-5:\n",
    "        for i in range(iterations_per_temperature):\n",
    "            neighbor_solution = generate_neighbor_gaussian(current_solution, min_values, max_values)\n",
    "            neighbor_value = objective_function(neighbor_solution)\n",
    "\n",
    "            # Apply penalty method for constraints\n",
    "            penalty = sum(max(0, constraint(neighbor_solution)) for constraint in constraint_functions)\n",
    "            neighbor_value_with_penalty = neighbor_value + penalty_factor * penalty\n",
    "\n",
    "            delta_y = neighbor_value_with_penalty - (current_value + penalty_factor * sum(max(0, constraint(current_solution)) for constraint in constraint_functions))\n",
    "            \n",
    "            # Accept the neighbor if it's better or with a certain probability\n",
    "            if delta_y <= 0 or np.random.rand() < np.exp(delta_y / temperature):\n",
    "                current_solution = neighbor_solution\n",
    "                current_value = neighbor_value\n",
    "\n",
    "                # Update the best solution if the current solution is better\n",
    "                if current_value < best_value:\n",
    "                    best_solution = current_solution\n",
    "                    best_value = current_value\n",
    "\n",
    "        # Cool down the temperature\n",
    "        temperature = temperature * (1 - cooling_rate)\n",
    "\n",
    "    return best_solution, best_value\n",
    "# Perform Simulated Annealing with penalty method\n",
    "best_solution_sa_penalty, best_value_sa_penalty = simulated_annealing_penalty(f, constraint_functions, x_min, x_max, initial_temperature, cooling_rate, iterations_per_temperature, randomSeed)\n",
    "\n",
    "# Print the results\n",
    "print(\"Best solution found by Simulated Annealing with penalty x =\", best_solution_sa_penalty)\n",
    "print(\"Optimum value found by Simulated Annealing with penalty:    \", best_value_sa_penalty)\n",
    "\n"
   ]
  },
  {
   "cell_type": "markdown",
   "id": "dfb13626",
   "metadata": {},
   "source": [
    "<h1 style=\"color:blue;> Question3: Implement the simulated annealing (SA) method that can use the functions defined above\n",
    "and return an approximation of the optimum solution x. </h1>\n",
    "\n"
   ]
  },
  {
   "cell_type": "markdown",
   "id": "8d152260",
   "metadata": {},
   "source": [
    "<h1 style=\"color:blue;\">For 21 repetitions of each of the algorithms implemented in 2 and 3, compare and comment on the performances of these optimisers. The number of evaluations for each individual function f(x) or gi(x) that you are allowed at each instance of an optimisation run\n",
    "is 10000 at most.</h1>"
   ]
  },
  {
   "cell_type": "markdown",
   "id": "585dfe5c",
   "metadata": {},
   "source": [
    "<h1><p>Hypothesis Testing:</h1>\n",
    "<p>\n",
    "<h3>Null Hypothesis (H0):</h3> The mean performance of Random Search equal to the mean performance of Simulated Annealing.\n",
    "</p>\n",
    "<p><h3> H0: Mean RS = Mean SA</h3></p>\n",
    "<p><h3>Alternative Hypothesis (Ha):</h3> The mean performance of Simulated Annealing is not equsl to the mean performance of Random Search </p>\n",
    "<p><h3> Ha: Mean SA ≠ Mean RS</h3></p>\n",
    "<p>Now, let's perform a t-test with a confidence level of 95% (α=0.05)</p>"
   ]
  },
  {
   "cell_type": "code",
   "execution_count": 40,
   "id": "c8ba9195",
   "metadata": {},
   "outputs": [
    {
     "name": "stdout",
     "output_type": "stream",
     "text": [
      "Iteration Number : 0\n"
     ]
    },
    {
     "name": "stderr",
     "output_type": "stream",
     "text": [
      "C:\\Users\\HP B.DESKTOP-20RBB06\\AppData\\Local\\Temp\\ipykernel_7616\\2162033751.py:32: RuntimeWarning: overflow encountered in exp\n",
      "  if delta_y <= 0 or np.random.rand() < np.exp(delta_y / temperature):\n",
      "C:\\Users\\HP B.DESKTOP-20RBB06\\AppData\\Local\\Temp\\ipykernel_7616\\951468068.py:47: RuntimeWarning: divide by zero encountered in scalar divide\n",
      "  value = (((6 * 10**(-6) * x[3] * x[0]) / (np.pi * h(x)**3)) * np.log(x[2] / x[1]))\n",
      "C:\\Users\\HP B.DESKTOP-20RBB06\\AppData\\Local\\Temp\\ipykernel_7616\\951468068.py:47: RuntimeWarning: invalid value encountered in scalar multiply\n",
      "  value = (((6 * 10**(-6) * x[3] * x[0]) / (np.pi * h(x)**3)) * np.log(x[2] / x[1]))\n"
     ]
    },
    {
     "name": "stdout",
     "output_type": "stream",
     "text": [
      "Iteration Number : 1\n",
      "Iteration Number : 2\n",
      "Iteration Number : 3\n",
      "Iteration Number : 4\n",
      "Iteration Number : 5\n",
      "Iteration Number : 6\n",
      "Iteration Number : 7\n",
      "Iteration Number : 8\n",
      "Iteration Number : 9\n",
      "Iteration Number : 10\n",
      "Iteration Number : 11\n",
      "Iteration Number : 12\n",
      "Iteration Number : 13\n",
      "Iteration Number : 14\n",
      "Iteration Number : 15\n",
      "Iteration Number : 16\n",
      "Iteration Number : 17\n",
      "Iteration Number : 18\n",
      "Iteration Number : 19\n",
      "Iteration Number : 20\n",
      "Iteration Number : 21\n",
      "\n",
      "Let's go analysis is starting:\n",
      "\n",
      "Random Search:\n",
      "Average best value: -3.676406183639683e+17\n",
      "Variance of Random Search values: 2.8309827225854e+36\n",
      "\n",
      "Simulated Annealing:\n",
      "Average best value: -1.4803346400837293e+17\n",
      "Variance of Simulated Annealing values: 1.036319336641754e+35\n",
      "\n",
      "t-statistic: -0.6168950988683023\n",
      "p-value: 0.5439348877434207\n",
      "Fail to reject the null hypothesis. There is no significant difference between Random Search and Simulated Annealing.\n"
     ]
    }
   ],
   "source": [
    "# Run Random Search and Simulated Annealing for 21 repetitions\n",
    "num_repetitions=22\n",
    "randomSeed=9363\n",
    "\n",
    "# Initialize lists to store results\n",
    "best_solutions_rs = []\n",
    "best_values_rs = []\n",
    "best_solutions_sa = []\n",
    "best_values_sa = []\n",
    "\n",
    "\n",
    "for i in range(num_repetitions):\n",
    "    # Random Search\n",
    "    print(\"Iteration Number :\",i)\n",
    "    best_solution_rss , best_value_rss = random_search(f, num_iterations,randomSeed*i*100)\n",
    "    best_solutions_rs.append(best_solution_rss)\n",
    "    best_values_rs.append(best_value_rss)\n",
    "\n",
    "    # Simulated Annealing\n",
    "    best_solution_sas, best_value_sas = simulated_annealing(f, x_min, x_max, initial_temperature, cooling_rate, iterations_per_temperature,randomSeed*i*100 )\n",
    "    best_solutions_sa.append(best_solution_sas)\n",
    "    best_values_sa.append(best_value_sas)\n",
    "\n",
    "    \n",
    "print()\n",
    "print(\"Let's go analysis is starting:\")\n",
    "print()\n",
    "\n",
    "# Print and compare the results\n",
    "print(\"Random Search:\")\n",
    "print(\"Average best value:\", np.mean(best_values_rs))\n",
    "print(\"Variance of Random Search values:\", np.var(best_values_rs))\n",
    "print()\n",
    "\n",
    "print(\"Simulated Annealing:\")\n",
    "print(\"Average best value:\", np.mean(best_values_sa))\n",
    "print(\"Variance of Simulated Annealing values:\", np.var(best_values_sa))\n",
    "print()\n",
    "\n",
    "t_stat, p_value = ttest_rel(best_values_rs, best_values_sa)\n",
    "\n",
    "# Define the significance level\n",
    "alpha = 0.05\n",
    "\n",
    "# Print the results of the hypothesis test\n",
    "print(\"t-statistic:\", t_stat)\n",
    "print(\"p-value:\", p_value)\n",
    "\n",
    "# Compare the p-value with the significance level\n",
    "if p_value < alpha:\n",
    "    print(\"Reject the null hypothesis. There is a significant difference between Random Search and Simulated Annealing.\")\n",
    "else:\n",
    "    print(\"Fail to reject the null hypothesis. There is no significant difference between Random Search and Simulated Annealing.\")\n",
    "\n",
    "\n",
    "\n"
   ]
  },
  {
   "cell_type": "code",
   "execution_count": 41,
   "id": "e41cb634",
   "metadata": {},
   "outputs": [
    {
     "data": {
      "image/png": "[encoded data removed]",
      "text/plain": [
       "<Figure size 1000x600 with 1 Axes>"
      ]
     },
     "metadata": {},
     "output_type": "display_data"
    }
   ],
   "source": [
    "#import matplotlib.pyplot as plt\n",
    "\n",
    "# Combine results for box plot\n",
    "all_results = [best_values_rs, best_values_sa]\n",
    "labels = ['Random Search', 'Simulated Annealing']\n",
    "\n",
    "# Create a box plot\n",
    "plt.figure(figsize=(10, 6))\n",
    "plt.boxplot(all_results, labels=labels, showmeans=True)\n",
    "plt.title('Performance Comparison: Random Search vs Simulated Annealing')\n",
    "plt.ylabel('Optimization Objective Value')\n",
    "plt.show()\n"
   ]
  },
  {
   "cell_type": "markdown",
   "id": "9ccdc53e",
   "metadata": {},
   "source": [
    "<h1>result</h1>\n",
    "Form that we can undestand which one is better depend on a nature of problem we need to solve, Based on the provided data and statistical analysis, the results suggest that, on average, Random serach is slightly better than simulated annealing after many reapting for this optimization problem to find minimum value. The variance simulated annealing indicates that Simulated Annealing's results are more consistent across different runs compared to Random Search with variance of 1.03631 to 2.8309827.\n",
    "It's important to note that the specific interpretation may depend on the nature of the optimization problem.</p>"
   ]
  },
  {
   "cell_type": "markdown",
   "id": "5807168a",
   "metadata": {},
   "source": [
    "<h1>Note</h1>\n",
    "<p><h1>Why we used t_test:</h1>In our case, since we are dealing with sample values obtained from optimization algorithms (Random Search and Simulated Annealing), and we are comparing means over 21 repetitions and to use Z-score we need large enough sampling 30 ore more, the t-test is a reasonable choice. It accounts for the uncertainty associated with estimating the standard deviation from our sample and is less sensitive to the distribution of the data.\n",
    "\n",
    "If your sample size is very large and the data distribution is approximately normal, you might find that the results of a t-test and a z-test are similar. However, it's good practice to use the t-test when dealing with small to moderate sample sizes or when the population standard deviation is unknown.</p>"
   ]
  },
  {
   "cell_type": "markdown",
   "id": "835aa1a7",
   "metadata": {},
   "source": [
    "<html>\n",
    "<body>\n",
    "\n",
    "<iframe width=\"420\" height=\"345\" src=\"https://www.youtube.com/embed/tgbNymZ7vqY\">\n",
    "</iframe>\n",
    "\n",
    "</body>\n",
    "</html>"
   ]
  },
  {
   "cell_type": "markdown",
   "id": "adb1dbbc",
   "metadata": {},
   "source": [
    "<html>\n",
    "<body>\n",
    "\n",
    "<iframe width=\"420\" height=\"345\" src=\"https://www.youtube.com/embed/tgbNymZ7vqY\">\n",
    "</iframe>\n",
    "\n",
    "</body>\n",
    "</html>"
   ]
  },
  {
   "cell_type": "markdown",
   "id": "076b5667",
   "metadata": {},
   "source": [
    "<iframe width=\"420\" height=\"345\" src=\"https://www.youtube.com/embed/tgbNymZ7vqY\">\n",
    "</iframe>\n"
   ]
  }
 ],
 "metadata": {
  "kernelspec": {
   "display_name": "Python 3 (ipykernel)",
   "language": "python",
   "name": "python3"
  },
  "language_info": {
   "codemirror_mode": {
    "name": "ipython",
    "version": 3
   },
   "file_extension": ".py",
   "mimetype": "text/x-python",
   "name": "python",
   "nbconvert_exporter": "python",
   "pygments_lexer": "ipython3",
   "version": "3.11.5"
  }
 },
 "nbformat": 4,
 "nbformat_minor": 5
}
